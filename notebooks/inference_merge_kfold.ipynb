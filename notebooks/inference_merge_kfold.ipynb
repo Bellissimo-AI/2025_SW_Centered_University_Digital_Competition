{
 "cells": [
  {
   "cell_type": "markdown",
   "id": "d6903461",
   "metadata": {},
   "source": [
    "# phase 4"
   ]
  },
  {
   "cell_type": "code",
   "execution_count": null,
   "id": "251afd36",
   "metadata": {
    "vscode": {
     "languageId": "plaintext"
    }
   },
   "outputs": [],
   "source": [
    "import numpy as np\n",
    "def sigmoid(x):\n",
    "    return 1 / (1 + np.exp(-x))"
   ]
  },
  {
   "cell_type": "code",
   "execution_count": null,
   "id": "21bb6cc7",
   "metadata": {
    "vscode": {
     "languageId": "plaintext"
    }
   },
   "outputs": [],
   "source": [
    "submission_list = [\n",
    "    (1.0 ,'../ckpt/kykim_phase4_0/test_fold0_step9904.npy'),\n",
    "    (1.0 ,'../ckpt/kykim_phase4_1/test_fold1_step9904.npy'),\n",
    "    (1.0 ,'../ckpt/kykim_phase4_2/test_fold2_step9904.npy'),\n",
    "    (1.0 ,'../ckpt/kykim_phase4_3/test_fold3_step9904.npy'),\n",
    "    (1.0 ,'../ckpt/kykim_phase4_4/test_fold4_step9904.npy'),\n",
    "    (1.0 ,'../ckpt/kykim_phase4_5/test_fold5_step9904.npy'),\n",
    "    (1.0 ,'../ckpt/kykim_phase4_6/test_fold6_step9904.npy'),\n",
    "    (1.0 ,'../ckpt/kykim_phase4_7/test_fold7_step9904.npy'),\n",
    "]"
   ]
  },
  {
   "cell_type": "code",
   "execution_count": null,
   "metadata": {
    "vscode": {
     "languageId": "plaintext"
    }
   },
   "outputs": [],
   "source": [
    "import pandas as pd\n",
    "import numpy as np\n",
    "\n",
    "submission_df = pd.read_csv(f\"../data/sample_submission.csv\")\n",
    "\n",
    "ensemble_df = pd.DataFrame()\n",
    "ensemble_df['ID'] = submission_df['ID']\n",
    "ensemble_df['generated'] = 0.0\n",
    "\n",
    "total_weight = 0.0\n",
    "for weight, sub in submission_list:\n",
    "    if sub.endswith('.csv'):\n",
    "        sub_df = pd.read_csv(sub)\n",
    "        ensemble_df['generated'] += weight * sub_df['generated']\n",
    "    elif sub.endswith('.npy'):\n",
    "        sub_df = np.load(sub) #pd.read_csv(sub)\n",
    "        ensemble_df['generated'] += weight * sigmoid(sub_df) #sub_df['generated']\n",
    "    total_weight += weight\n",
    "\n",
    "ensemble_df['generated'] = ensemble_df['generated'] / ( total_weight)"
   ]
  },
  {
   "cell_type": "code",
   "execution_count": null,
   "id": "5111957c",
   "metadata": {
    "vscode": {
     "languageId": "plaintext"
    }
   },
   "outputs": [],
   "source": [
    "ensemble_df.to_csv(\"korphase4_kfold_ensemble.csv\", index=False)"
   ]
  },
  {
   "cell_type": "markdown",
   "id": "6300e913",
   "metadata": {},
   "source": [
    "# phase 3"
   ]
  },
  {
   "cell_type": "code",
   "execution_count": null,
   "id": "30ce06b8",
   "metadata": {
    "vscode": {
     "languageId": "plaintext"
    }
   },
   "outputs": [],
   "source": [
    "submission_list = [\n",
    "     (1.0, \"../ckpt/kykim_phase3_0/test_fold0_step6468.npy\"),\n",
    "     (1.0, \"../ckpt/kykim_phase3_1/test_fold1_step6468.npy\"),\n",
    "     (1.0, \"../ckpt/kykim_phase3_2/test_fold2_step6468.npy\"),\n",
    "     (1.0, \"../ckpt/kykim_phase3_3/test_fold3_step6468.npy\"),\n",
    "]"
   ]
  },
  {
   "cell_type": "code",
   "execution_count": null,
   "id": "e005c929",
   "metadata": {
    "vscode": {
     "languageId": "plaintext"
    }
   },
   "outputs": [],
   "source": [
    "import pandas as pd\n",
    "import numpy as np\n",
    "\n",
    "submission_df = pd.read_csv(f\"../data/sample_submission.csv\")\n",
    "\n",
    "ensemble_df = pd.DataFrame()\n",
    "ensemble_df['ID'] = submission_df['ID']\n",
    "ensemble_df['generated'] = 0.0\n",
    "\n",
    "total_weight = 0.0\n",
    "for weight, sub in submission_list:\n",
    "    if sub.endswith('.csv'):\n",
    "        sub_df = pd.read_csv(sub)\n",
    "        ensemble_df['generated'] += weight * sub_df['generated']\n",
    "    elif sub.endswith('.npy'):\n",
    "        sub_df = np.load(sub) #pd.read_csv(sub)\n",
    "        ensemble_df['generated'] += weight * sigmoid(sub_df) #sub_df['generated']\n",
    "    total_weight += weight\n",
    "\n",
    "ensemble_df['generated'] = ensemble_df['generated'] / ( total_weight)"
   ]
  },
  {
   "cell_type": "code",
   "execution_count": null,
   "id": "ae8cf5d7",
   "metadata": {
    "vscode": {
     "languageId": "plaintext"
    }
   },
   "outputs": [],
   "source": [
    "ensemble_df.to_csv(\"korphase3_kfold_ensemble.csv\", index=False)"
   ]
  },
  {
   "cell_type": "markdown",
   "id": "7d9595de",
   "metadata": {},
   "source": [
    "# ensemble"
   ]
  },
  {
   "cell_type": "code",
   "execution_count": null,
   "id": "50150888",
   "metadata": {
    "vscode": {
     "languageId": "plaintext"
    }
   },
   "outputs": [],
   "source": [
    "submission_list = [\n",
    "    (1.0, \"korphase4_kfold_ensemble.csv\"),\n",
    "    (0.1, \"korphase3_kfold_ensemble.csv\"),\n",
    "]"
   ]
  },
  {
   "cell_type": "code",
   "execution_count": null,
   "id": "6837ac4b",
   "metadata": {
    "vscode": {
     "languageId": "plaintext"
    }
   },
   "outputs": [],
   "source": [
    "import pandas as pd\n",
    "import numpy as np\n",
    "\n",
    "submission_df = pd.read_csv(f\"../data/sample_submission.csv\")\n",
    "\n",
    "ensemble_df = pd.DataFrame()\n",
    "ensemble_df['ID'] = submission_df['ID']\n",
    "ensemble_df['generated'] = 0.0\n",
    "\n",
    "total_weight = 0.0\n",
    "for weight, sub in submission_list:\n",
    "    if sub.endswith('.csv'):\n",
    "        sub_df = pd.read_csv(sub)\n",
    "        ensemble_df['generated'] += weight * sub_df['generated']\n",
    "    elif sub.endswith('.npy'):\n",
    "        sub_df = np.load(sub) #pd.read_csv(sub)\n",
    "        ensemble_df['generated'] += weight * sigmoid(sub_df) #sub_df['generated']\n",
    "    total_weight += weight\n",
    "\n",
    "ensemble_df['generated'] = ensemble_df['generated'] / ( total_weight)"
   ]
  },
  {
   "cell_type": "code",
   "execution_count": null,
   "id": "5486761c",
   "metadata": {
    "vscode": {
     "languageId": "plaintext"
    }
   },
   "outputs": [],
   "source": [
    "ensemble_df.to_csv(\"final.csv\", index=False)"
   ]
  }
 ],
 "metadata": {
  "language_info": {
   "name": "python"
  }
 },
 "nbformat": 4,
 "nbformat_minor": 5
}
