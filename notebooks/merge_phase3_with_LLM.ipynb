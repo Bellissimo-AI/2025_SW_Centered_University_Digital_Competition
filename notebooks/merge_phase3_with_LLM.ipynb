{
 "cells": [
  {
   "cell_type": "code",
   "execution_count": null,
   "id": "21bb6cc7",
   "metadata": {
    "vscode": {
     "languageId": "plaintext"
    }
   },
   "outputs": [],
   "source": [
    "import pandas as pandas\n",
    "\n",
    "old = pd.read_csv(\"../data_oof_phase3/train.csv\")\n",
    "new = pd.read_csv(\"../data_oof_phase3/generated_output_up_to_160000.csv\")"
   ]
  },
  {
   "cell_type": "code",
   "execution_count": null,
   "id": "f32459bc",
   "metadata": {
    "vscode": {
     "languageId": "plaintext"
    }
   },
   "outputs": [],
   "source": [
    "new = new[['title','generated','logits','probs','generated_paragraph']]\n",
    "new = new.rename(columns={'generated_paragraph': 'full_text'})\n",
    "new['generated'] = 1.\n",
    "new['probs'] = 1.\n",
    "new.head()"
   ]
  },
  {
   "cell_type": "code",
   "execution_count": null,
   "id": "0d5b55e3",
   "metadata": {
    "vscode": {
     "languageId": "plaintext"
    }
   },
   "outputs": [],
   "source": [
    "concated = pd.concat([old, new], ignore_index=True)\n",
    "concated"
   ]
  },
  {
   "cell_type": "code",
   "execution_count": null,
   "id": "e53b6b6e",
   "metadata": {
    "vscode": {
     "languageId": "plaintext"
    }
   },
   "outputs": [],
   "source": [
    "concated.to_csv(\"../constants_phase4/train.csv\", index=False)"
   ]
  }
 ],
 "metadata": {
  "language_info": {
   "name": "python"
  }
 },
 "nbformat": 4,
 "nbformat_minor": 5
}
