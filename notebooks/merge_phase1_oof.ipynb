{
 "cells": [
  {
   "cell_type": "code",
   "execution_count": null,
   "id": "d5bf937e",
   "metadata": {
    "vscode": {
     "languageId": "plaintext"
    }
   },
   "outputs": [],
   "source": [
    "import pandas as pd\n",
    "\n",
    "train_df = pd.read_csv(\"../data/train.csv\")\n",
    "train_df.head()"
   ]
  },
  {
   "cell_type": "code",
   "execution_count": null,
   "id": "2e30eb42",
   "metadata": {
    "vscode": {
     "languageId": "plaintext"
    }
   },
   "outputs": [],
   "source": [
    "import pandas as pd\n",
    "import numpy as np\n",
    "\n",
    "oof_df = pd.DataFrame()\n",
    "\n",
    "for fold_idx in range(0,10):\n",
    "    print(fold_idx)\n",
    "    data = np.load(f\"../ckpt/baseline_fold_{fold_idx}/valid_fold{fold_idx}_step3417.npy\")\n",
    "    label = np.load(f\"../ckpt/baseline_fold_{fold_idx}/valid_fold{fold_idx}_step3417_label.npy\").astype(int)\n",
    "    \n",
    "    #assert label is ascending order\n",
    "    assert np.all(np.diff(label) >= 0), \"Labels are not in ascending order\"\n",
    "    \n",
    "    data = data.flatten()\n",
    "    data = data[data != -100]\n",
    "    \n",
    "    cur_valid_idx_list = kfold_dict[fold_idx][1]\n",
    "    \n",
    "    cur_valid = train_df.iloc[cur_valid_idx_list]\n",
    "    cur_valid_expanded = (\n",
    "        cur_valid.assign(text=cur_valid[\"full_text\"].str.split(\"\\n\"))  # 새 column 'text'에 리스트 저장\n",
    "        .explode(\"text\")                              # 리스트 → 여러 행\n",
    "        .drop(columns=\"full_text\")                    # 원본 full_text 제거\n",
    "        .reset_index(drop=True)                       # 인덱스 리셋\n",
    "    )\n",
    "\n",
    "    cur_valid_expanded['logits'] = data\n",
    "    cur_valid_expanded['probs'] = sigmoid(cur_valid_expanded['logits'])\n",
    "    \n",
    "    oof_df = pd.concat([oof_df, cur_valid_expanded], ignore_index=True)"
   ]
  },
  {
   "cell_type": "code",
   "execution_count": null,
   "id": "d0219100",
   "metadata": {
    "vscode": {
     "languageId": "plaintext"
    }
   },
   "outputs": [],
   "source": [
    "oof_df.rename(columns={'text': 'full_text'}, inplace=True)\n",
    "oof_df.loc[oof_df['generated']==0, 'probs'] = 0.0\n",
    "oof_df['generated'] = oof_df['probs']"
   ]
  },
  {
   "cell_type": "code",
   "execution_count": null,
   "id": "8451a1aa",
   "metadata": {
    "vscode": {
     "languageId": "plaintext"
    }
   },
   "outputs": [],
   "source": [
    "oof_df.to_csv(\"../data_oof/train.csv\", index=False)"
   ]
  }
 ],
 "metadata": {
  "language_info": {
   "name": "python"
  }
 },
 "nbformat": 4,
 "nbformat_minor": 5
}
